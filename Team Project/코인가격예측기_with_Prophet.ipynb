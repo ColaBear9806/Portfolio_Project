{
  "nbformat": 4,
  "nbformat_minor": 0,
  "metadata": {
    "colab": {
      "provenance": [],
      "machine_shape": "hm"
    },
    "kernelspec": {
      "display_name": "Python 3",
      "name": "python3"
    },
    "language_info": {
      "name": "python"
    }
  },
  "cells": [
    {
      "cell_type": "code",
      "metadata": {
        "colab": {
          "base_uri": "https://localhost:8080/"
        },
        "id": "Qhy0Opr70yhO",
        "outputId": "faaedc8d-72e5-4a12-cc91-5739d0982e8e"
      },
      "source": [
        "!pip install pyupbit"
      ],
      "execution_count": null,
      "outputs": [
        {
          "output_type": "stream",
          "name": "stdout",
          "text": [
            "Requirement already satisfied: pyupbit in /usr/local/lib/python3.7/dist-packages (0.2.20)\n",
            "Requirement already satisfied: requests in /usr/local/lib/python3.7/dist-packages (from pyupbit) (2.23.0)\n",
            "Requirement already satisfied: websockets==9.1 in /usr/local/lib/python3.7/dist-packages (from pyupbit) (9.1)\n",
            "Requirement already satisfied: pyjwt>=2.0.0 in /usr/local/lib/python3.7/dist-packages (from pyupbit) (2.2.0)\n",
            "Requirement already satisfied: pandas in /usr/local/lib/python3.7/dist-packages (from pyupbit) (1.1.5)\n",
            "Requirement already satisfied: pytz>=2017.2 in /usr/local/lib/python3.7/dist-packages (from pandas->pyupbit) (2018.9)\n",
            "Requirement already satisfied: numpy>=1.15.4 in /usr/local/lib/python3.7/dist-packages (from pandas->pyupbit) (1.19.5)\n",
            "Requirement already satisfied: python-dateutil>=2.7.3 in /usr/local/lib/python3.7/dist-packages (from pandas->pyupbit) (2.8.2)\n",
            "Requirement already satisfied: six>=1.5 in /usr/local/lib/python3.7/dist-packages (from python-dateutil>=2.7.3->pandas->pyupbit) (1.15.0)\n",
            "Requirement already satisfied: urllib3!=1.25.0,!=1.25.1,<1.26,>=1.21.1 in /usr/local/lib/python3.7/dist-packages (from requests->pyupbit) (1.24.3)\n",
            "Requirement already satisfied: idna<3,>=2.5 in /usr/local/lib/python3.7/dist-packages (from requests->pyupbit) (2.10)\n",
            "Requirement already satisfied: certifi>=2017.4.17 in /usr/local/lib/python3.7/dist-packages (from requests->pyupbit) (2021.5.30)\n",
            "Requirement already satisfied: chardet<4,>=3.0.2 in /usr/local/lib/python3.7/dist-packages (from requests->pyupbit) (3.0.4)\n"
          ]
        }
      ]
    },
    {
      "cell_type": "code",
      "metadata": {
        "id": "XJ4cRnvo02XB"
      },
      "source": [
        "import pyupbit\n",
        "\n",
        "coin = 'KRW-IOST'"
      ],
      "execution_count": null,
      "outputs": []
    },
    {
      "cell_type": "code",
      "metadata": {
        "colab": {
          "base_uri": "https://localhost:8080/",
          "height": 417
        },
        "id": "EpkW71g-037j",
        "outputId": "627a63f3-64d1-4186-880a-20fd6f30e0c3"
      },
      "source": [
        "#BTC 최근 200시간의 데이터 불러옴\n",
        "df = pyupbit.get_ohlcv(coin, interval=\"minute60\", count = 1000)\n",
        "df"
      ],
      "execution_count": null,
      "outputs": [
        {
          "output_type": "execute_result",
          "data": {
            "text/html": [
              "<div>\n",
              "<style scoped>\n",
              "    .dataframe tbody tr th:only-of-type {\n",
              "        vertical-align: middle;\n",
              "    }\n",
              "\n",
              "    .dataframe tbody tr th {\n",
              "        vertical-align: top;\n",
              "    }\n",
              "\n",
              "    .dataframe thead th {\n",
              "        text-align: right;\n",
              "    }\n",
              "</style>\n",
              "<table border=\"1\" class=\"dataframe\">\n",
              "  <thead>\n",
              "    <tr style=\"text-align: right;\">\n",
              "      <th></th>\n",
              "      <th>open</th>\n",
              "      <th>high</th>\n",
              "      <th>low</th>\n",
              "      <th>close</th>\n",
              "      <th>volume</th>\n",
              "      <th>value</th>\n",
              "    </tr>\n",
              "  </thead>\n",
              "  <tbody>\n",
              "    <tr>\n",
              "      <th>2021-08-30 21:00:00</th>\n",
              "      <td>50.0</td>\n",
              "      <td>50.0</td>\n",
              "      <td>48.9</td>\n",
              "      <td>49.1</td>\n",
              "      <td>1.761368e+07</td>\n",
              "      <td>8.698752e+08</td>\n",
              "    </tr>\n",
              "    <tr>\n",
              "      <th>2021-08-30 22:00:00</th>\n",
              "      <td>49.1</td>\n",
              "      <td>49.7</td>\n",
              "      <td>48.5</td>\n",
              "      <td>49.1</td>\n",
              "      <td>2.621400e+07</td>\n",
              "      <td>1.282406e+09</td>\n",
              "    </tr>\n",
              "    <tr>\n",
              "      <th>2021-08-30 23:00:00</th>\n",
              "      <td>49.1</td>\n",
              "      <td>49.5</td>\n",
              "      <td>48.9</td>\n",
              "      <td>48.9</td>\n",
              "      <td>1.021618e+07</td>\n",
              "      <td>5.028353e+08</td>\n",
              "    </tr>\n",
              "    <tr>\n",
              "      <th>2021-08-31 00:00:00</th>\n",
              "      <td>48.9</td>\n",
              "      <td>49.8</td>\n",
              "      <td>48.9</td>\n",
              "      <td>49.6</td>\n",
              "      <td>1.163693e+07</td>\n",
              "      <td>5.743263e+08</td>\n",
              "    </tr>\n",
              "    <tr>\n",
              "      <th>2021-08-31 01:00:00</th>\n",
              "      <td>49.6</td>\n",
              "      <td>50.1</td>\n",
              "      <td>49.4</td>\n",
              "      <td>50.0</td>\n",
              "      <td>5.679751e+06</td>\n",
              "      <td>2.821558e+08</td>\n",
              "    </tr>\n",
              "    <tr>\n",
              "      <th>...</th>\n",
              "      <td>...</td>\n",
              "      <td>...</td>\n",
              "      <td>...</td>\n",
              "      <td>...</td>\n",
              "      <td>...</td>\n",
              "      <td>...</td>\n",
              "    </tr>\n",
              "    <tr>\n",
              "      <th>2021-10-09 20:00:00</th>\n",
              "      <td>70.1</td>\n",
              "      <td>71.5</td>\n",
              "      <td>68.0</td>\n",
              "      <td>70.0</td>\n",
              "      <td>2.800694e+08</td>\n",
              "      <td>1.958344e+10</td>\n",
              "    </tr>\n",
              "    <tr>\n",
              "      <th>2021-10-09 21:00:00</th>\n",
              "      <td>70.0</td>\n",
              "      <td>71.4</td>\n",
              "      <td>69.9</td>\n",
              "      <td>70.8</td>\n",
              "      <td>8.570461e+07</td>\n",
              "      <td>6.066425e+09</td>\n",
              "    </tr>\n",
              "    <tr>\n",
              "      <th>2021-10-09 22:00:00</th>\n",
              "      <td>70.8</td>\n",
              "      <td>72.9</td>\n",
              "      <td>70.7</td>\n",
              "      <td>71.7</td>\n",
              "      <td>1.058975e+08</td>\n",
              "      <td>7.602198e+09</td>\n",
              "    </tr>\n",
              "    <tr>\n",
              "      <th>2021-10-09 23:00:00</th>\n",
              "      <td>71.7</td>\n",
              "      <td>72.7</td>\n",
              "      <td>71.3</td>\n",
              "      <td>71.8</td>\n",
              "      <td>6.984051e+07</td>\n",
              "      <td>5.018020e+09</td>\n",
              "    </tr>\n",
              "    <tr>\n",
              "      <th>2021-10-10 00:00:00</th>\n",
              "      <td>71.8</td>\n",
              "      <td>71.9</td>\n",
              "      <td>71.6</td>\n",
              "      <td>71.6</td>\n",
              "      <td>1.346579e+06</td>\n",
              "      <td>9.661184e+07</td>\n",
              "    </tr>\n",
              "  </tbody>\n",
              "</table>\n",
              "<p>1000 rows × 6 columns</p>\n",
              "</div>"
            ],
            "text/plain": [
              "                     open  high   low  close        volume         value\n",
              "2021-08-30 21:00:00  50.0  50.0  48.9   49.1  1.761368e+07  8.698752e+08\n",
              "2021-08-30 22:00:00  49.1  49.7  48.5   49.1  2.621400e+07  1.282406e+09\n",
              "2021-08-30 23:00:00  49.1  49.5  48.9   48.9  1.021618e+07  5.028353e+08\n",
              "2021-08-31 00:00:00  48.9  49.8  48.9   49.6  1.163693e+07  5.743263e+08\n",
              "2021-08-31 01:00:00  49.6  50.1  49.4   50.0  5.679751e+06  2.821558e+08\n",
              "...                   ...   ...   ...    ...           ...           ...\n",
              "2021-10-09 20:00:00  70.1  71.5  68.0   70.0  2.800694e+08  1.958344e+10\n",
              "2021-10-09 21:00:00  70.0  71.4  69.9   70.8  8.570461e+07  6.066425e+09\n",
              "2021-10-09 22:00:00  70.8  72.9  70.7   71.7  1.058975e+08  7.602198e+09\n",
              "2021-10-09 23:00:00  71.7  72.7  71.3   71.8  6.984051e+07  5.018020e+09\n",
              "2021-10-10 00:00:00  71.8  71.9  71.6   71.6  1.346579e+06  9.661184e+07\n",
              "\n",
              "[1000 rows x 6 columns]"
            ]
          },
          "metadata": {},
          "execution_count": 304
        }
      ]
    },
    {
      "cell_type": "code",
      "metadata": {
        "id": "x85USk6CB2Da"
      },
      "source": [],
      "execution_count": null,
      "outputs": []
    },
    {
      "cell_type": "code",
      "metadata": {
        "colab": {
          "base_uri": "https://localhost:8080/",
          "height": 417
        },
        "id": "anVgKaBz05Rd",
        "outputId": "2a807d66-0b62-4003-9c8d-c437d8b5add2"
      },
      "source": [
        "#시간(ds)와 종가(y)값만 남김\n",
        "df = df.reset_index()\n",
        "df['ds'] = df['index']\n",
        "df['y'] = df['close']\n",
        "data = df[['ds','y']]\n",
        "data"
      ],
      "execution_count": null,
      "outputs": [
        {
          "output_type": "execute_result",
          "data": {
            "text/html": [
              "<div>\n",
              "<style scoped>\n",
              "    .dataframe tbody tr th:only-of-type {\n",
              "        vertical-align: middle;\n",
              "    }\n",
              "\n",
              "    .dataframe tbody tr th {\n",
              "        vertical-align: top;\n",
              "    }\n",
              "\n",
              "    .dataframe thead th {\n",
              "        text-align: right;\n",
              "    }\n",
              "</style>\n",
              "<table border=\"1\" class=\"dataframe\">\n",
              "  <thead>\n",
              "    <tr style=\"text-align: right;\">\n",
              "      <th></th>\n",
              "      <th>ds</th>\n",
              "      <th>y</th>\n",
              "    </tr>\n",
              "  </thead>\n",
              "  <tbody>\n",
              "    <tr>\n",
              "      <th>0</th>\n",
              "      <td>2021-08-30 21:00:00</td>\n",
              "      <td>49.1</td>\n",
              "    </tr>\n",
              "    <tr>\n",
              "      <th>1</th>\n",
              "      <td>2021-08-30 22:00:00</td>\n",
              "      <td>49.1</td>\n",
              "    </tr>\n",
              "    <tr>\n",
              "      <th>2</th>\n",
              "      <td>2021-08-30 23:00:00</td>\n",
              "      <td>48.9</td>\n",
              "    </tr>\n",
              "    <tr>\n",
              "      <th>3</th>\n",
              "      <td>2021-08-31 00:00:00</td>\n",
              "      <td>49.6</td>\n",
              "    </tr>\n",
              "    <tr>\n",
              "      <th>4</th>\n",
              "      <td>2021-08-31 01:00:00</td>\n",
              "      <td>50.0</td>\n",
              "    </tr>\n",
              "    <tr>\n",
              "      <th>...</th>\n",
              "      <td>...</td>\n",
              "      <td>...</td>\n",
              "    </tr>\n",
              "    <tr>\n",
              "      <th>995</th>\n",
              "      <td>2021-10-09 20:00:00</td>\n",
              "      <td>70.0</td>\n",
              "    </tr>\n",
              "    <tr>\n",
              "      <th>996</th>\n",
              "      <td>2021-10-09 21:00:00</td>\n",
              "      <td>70.8</td>\n",
              "    </tr>\n",
              "    <tr>\n",
              "      <th>997</th>\n",
              "      <td>2021-10-09 22:00:00</td>\n",
              "      <td>71.7</td>\n",
              "    </tr>\n",
              "    <tr>\n",
              "      <th>998</th>\n",
              "      <td>2021-10-09 23:00:00</td>\n",
              "      <td>71.8</td>\n",
              "    </tr>\n",
              "    <tr>\n",
              "      <th>999</th>\n",
              "      <td>2021-10-10 00:00:00</td>\n",
              "      <td>71.6</td>\n",
              "    </tr>\n",
              "  </tbody>\n",
              "</table>\n",
              "<p>1000 rows × 2 columns</p>\n",
              "</div>"
            ],
            "text/plain": [
              "                     ds     y\n",
              "0   2021-08-30 21:00:00  49.1\n",
              "1   2021-08-30 22:00:00  49.1\n",
              "2   2021-08-30 23:00:00  48.9\n",
              "3   2021-08-31 00:00:00  49.6\n",
              "4   2021-08-31 01:00:00  50.0\n",
              "..                  ...   ...\n",
              "995 2021-10-09 20:00:00  70.0\n",
              "996 2021-10-09 21:00:00  70.8\n",
              "997 2021-10-09 22:00:00  71.7\n",
              "998 2021-10-09 23:00:00  71.8\n",
              "999 2021-10-10 00:00:00  71.6\n",
              "\n",
              "[1000 rows x 2 columns]"
            ]
          },
          "metadata": {},
          "execution_count": 305
        }
      ]
    },
    {
      "cell_type": "code",
      "metadata": {
        "id": "izvKCcD706Xv"
      },
      "source": [
        "#prophet 불러옴\n",
        "from fbprophet import Prophet"
      ],
      "execution_count": null,
      "outputs": []
    },
    {
      "cell_type": "code",
      "metadata": {
        "colab": {
          "base_uri": "https://localhost:8080/"
        },
        "id": "YgOJ_ASY063o",
        "outputId": "a222e220-ebae-4617-ea1a-92f2824f4788"
      },
      "source": [
        "#학습\n",
        "model = Prophet()\n",
        "model.fit(data)"
      ],
      "execution_count": null,
      "outputs": [
        {
          "output_type": "stream",
          "name": "stderr",
          "text": [
            "INFO:fbprophet:Disabling yearly seasonality. Run prophet with yearly_seasonality=True to override this.\n"
          ]
        },
        {
          "output_type": "execute_result",
          "data": {
            "text/plain": [
              "<fbprophet.forecaster.Prophet at 0x7f36c3a39ed0>"
            ]
          },
          "metadata": {},
          "execution_count": 307
        }
      ]
    },
    {
      "cell_type": "code",
      "metadata": {
        "id": "0ho_TVRr086N"
      },
      "source": [
        "#24시간 미래 예측\n",
        "future = model.make_future_dataframe(periods=24, freq='H')\n",
        "forecast = model.predict(future)"
      ],
      "execution_count": null,
      "outputs": []
    },
    {
      "cell_type": "code",
      "metadata": {
        "id": "N83V_NNw0-ap",
        "colab": {
          "base_uri": "https://localhost:8080/",
          "height": 441
        },
        "outputId": "16be1de6-6cd8-441e-ead9-04617f616bfc"
      },
      "source": [
        "#그래프1\n",
        "fig1 = model.plot(forecast)"
      ],
      "execution_count": null,
      "outputs": [
        {
          "output_type": "display_data",
          "data": {
            "image/png": "[encoded data removed]",
            "text/plain": [
              "<Figure size 720x432 with 1 Axes>"
            ]
          },
          "metadata": {}
        }
      ]
    },
    {
      "cell_type": "code",
      "metadata": {
        "id": "WZ6GQY-W0_dK",
        "colab": {
          "base_uri": "https://localhost:8080/",
          "height": 657
        },
        "outputId": "3e6a7dfe-e55c-4390-ef74-6294487c615c"
      },
      "source": [
        "#그래프2\n",
        "fig2 = model.plot_components(forecast)"
      ],
      "execution_count": null,
      "outputs": [
        {
          "output_type": "display_data",
          "data": {
            "image/png": "[encoded data removed]",
            "text/plain": [
              "<Figure size 648x648 with 3 Axes>"
            ]
          },
          "metadata": {}
        }
      ]
    },
    {
      "cell_type": "code",
      "metadata": {
        "id": "YbegeFsB1Ann",
        "colab": {
          "base_uri": "https://localhost:8080/"
        },
        "outputId": "e3c47c0d-07e1-4e30-ad58-ee45e0b9d557"
      },
      "source": [
        "#매수 시점의 가격\n",
        "nowValue = pyupbit.get_current_price(coin)\n",
        "nowValue"
      ],
      "execution_count": null,
      "outputs": [
        {
          "output_type": "execute_result",
          "data": {
            "text/plain": [
              "71.6"
            ]
          },
          "metadata": {},
          "execution_count": 311
        }
      ]
    },
    {
      "cell_type": "code",
      "metadata": {
        "id": "UPIXvVrm1CZu",
        "colab": {
          "base_uri": "https://localhost:8080/"
        },
        "outputId": "7f8fccf3-9c6f-462d-c510-55a281174d93"
      },
      "source": [
        "#종가의 가격을 구함\n",
        "\n",
        "#현재 시간이 자정 이전\n",
        "closeDf = forecast[forecast['ds'] == forecast.iloc[-1]['ds'].replace(hour=9)]\n",
        "\n",
        "#현재 시간이 자정 이후\n",
        "if len(closeDf) == 0:\n",
        "  closeDf = forecast[forecast['ds'] == data.iloc[-1]['ds'].replace(hour=9)]\n",
        "\n",
        "#어쨋든 당일 종가\n",
        "closeValue = closeDf['yhat'].values[0]\n",
        "closeValue"
      ],
      "execution_count": null,
      "outputs": [
        {
          "output_type": "execute_result",
          "data": {
            "text/plain": [
              "69.99444027301023"
            ]
          },
          "metadata": {},
          "execution_count": 312
        }
      ]
    },
    {
      "cell_type": "code",
      "metadata": {
        "id": "QCAr6Zow1C7e",
        "colab": {
          "base_uri": "https://localhost:8080/"
        },
        "outputId": "c3f5bdc7-b559-4fd6-8838-6951108224a5"
      },
      "source": [
        "#구체적인 가격\n",
        "print(\"현재 시점 가격: \", nowValue)\n",
        "print(\"종가의 가격: \", closeValue)"
      ],
      "execution_count": null,
      "outputs": [
        {
          "output_type": "stream",
          "name": "stdout",
          "text": [
            "현재 시점 가격:  71.6\n",
            "종가의 가격:  69.99444027301023\n"
          ]
        }
      ]
    },
    {
      "cell_type": "code",
      "metadata": {
        "id": "uitq2xHc1E05",
        "colab": {
          "base_uri": "https://localhost:8080/",
          "height": 773
        },
        "outputId": "4cf6045a-ce02-4cc7-b388-9689f4c03db9"
      },
      "source": [
        "forecast"
      ],
      "execution_count": null,
      "outputs": [
        {
          "output_type": "execute_result",
          "data": {
            "text/html": [
              "<div>\n",
              "<style scoped>\n",
              "    .dataframe tbody tr th:only-of-type {\n",
              "        vertical-align: middle;\n",
              "    }\n",
              "\n",
              "    .dataframe tbody tr th {\n",
              "        vertical-align: top;\n",
              "    }\n",
              "\n",
              "    .dataframe thead th {\n",
              "        text-align: right;\n",
              "    }\n",
              "</style>\n",
              "<table border=\"1\" class=\"dataframe\">\n",
              "  <thead>\n",
              "    <tr style=\"text-align: right;\">\n",
              "      <th></th>\n",
              "      <th>ds</th>\n",
              "      <th>trend</th>\n",
              "      <th>yhat_lower</th>\n",
              "      <th>yhat_upper</th>\n",
              "      <th>trend_lower</th>\n",
              "      <th>trend_upper</th>\n",
              "      <th>additive_terms</th>\n",
              "      <th>additive_terms_lower</th>\n",
              "      <th>additive_terms_upper</th>\n",
              "      <th>daily</th>\n",
              "      <th>daily_lower</th>\n",
              "      <th>daily_upper</th>\n",
              "      <th>weekly</th>\n",
              "      <th>weekly_lower</th>\n",
              "      <th>weekly_upper</th>\n",
              "      <th>multiplicative_terms</th>\n",
              "      <th>multiplicative_terms_lower</th>\n",
              "      <th>multiplicative_terms_upper</th>\n",
              "      <th>yhat</th>\n",
              "    </tr>\n",
              "  </thead>\n",
              "  <tbody>\n",
              "    <tr>\n",
              "      <th>0</th>\n",
              "      <td>2021-08-30 21:00:00</td>\n",
              "      <td>49.712217</td>\n",
              "      <td>43.343052</td>\n",
              "      <td>52.348026</td>\n",
              "      <td>49.712217</td>\n",
              "      <td>49.712217</td>\n",
              "      <td>-1.875838</td>\n",
              "      <td>-1.875838</td>\n",
              "      <td>-1.875838</td>\n",
              "      <td>-0.063621</td>\n",
              "      <td>-0.063621</td>\n",
              "      <td>-0.063621</td>\n",
              "      <td>-1.812216</td>\n",
              "      <td>-1.812216</td>\n",
              "      <td>-1.812216</td>\n",
              "      <td>0.0</td>\n",
              "      <td>0.0</td>\n",
              "      <td>0.0</td>\n",
              "      <td>47.836379</td>\n",
              "    </tr>\n",
              "    <tr>\n",
              "      <th>1</th>\n",
              "      <td>2021-08-30 22:00:00</td>\n",
              "      <td>49.750617</td>\n",
              "      <td>43.351239</td>\n",
              "      <td>52.167784</td>\n",
              "      <td>49.750617</td>\n",
              "      <td>49.750617</td>\n",
              "      <td>-2.067329</td>\n",
              "      <td>-2.067329</td>\n",
              "      <td>-2.067329</td>\n",
              "      <td>-0.151075</td>\n",
              "      <td>-0.151075</td>\n",
              "      <td>-0.151075</td>\n",
              "      <td>-1.916254</td>\n",
              "      <td>-1.916254</td>\n",
              "      <td>-1.916254</td>\n",
              "      <td>0.0</td>\n",
              "      <td>0.0</td>\n",
              "      <td>0.0</td>\n",
              "      <td>47.683287</td>\n",
              "    </tr>\n",
              "    <tr>\n",
              "      <th>2</th>\n",
              "      <td>2021-08-30 23:00:00</td>\n",
              "      <td>49.789017</td>\n",
              "      <td>43.169589</td>\n",
              "      <td>52.218836</td>\n",
              "      <td>49.789017</td>\n",
              "      <td>49.789017</td>\n",
              "      <td>-2.203066</td>\n",
              "      <td>-2.203066</td>\n",
              "      <td>-2.203066</td>\n",
              "      <td>-0.178973</td>\n",
              "      <td>-0.178973</td>\n",
              "      <td>-0.178973</td>\n",
              "      <td>-2.024093</td>\n",
              "      <td>-2.024093</td>\n",
              "      <td>-2.024093</td>\n",
              "      <td>0.0</td>\n",
              "      <td>0.0</td>\n",
              "      <td>0.0</td>\n",
              "      <td>47.585951</td>\n",
              "    </tr>\n",
              "    <tr>\n",
              "      <th>3</th>\n",
              "      <td>2021-08-31 00:00:00</td>\n",
              "      <td>49.827417</td>\n",
              "      <td>43.102789</td>\n",
              "      <td>51.982789</td>\n",
              "      <td>49.827417</td>\n",
              "      <td>49.827417</td>\n",
              "      <td>-2.311728</td>\n",
              "      <td>-2.311728</td>\n",
              "      <td>-2.311728</td>\n",
              "      <td>-0.175791</td>\n",
              "      <td>-0.175791</td>\n",
              "      <td>-0.175791</td>\n",
              "      <td>-2.135937</td>\n",
              "      <td>-2.135937</td>\n",
              "      <td>-2.135937</td>\n",
              "      <td>0.0</td>\n",
              "      <td>0.0</td>\n",
              "      <td>0.0</td>\n",
              "      <td>47.515688</td>\n",
              "    </tr>\n",
              "    <tr>\n",
              "      <th>4</th>\n",
              "      <td>2021-08-31 01:00:00</td>\n",
              "      <td>49.865817</td>\n",
              "      <td>42.997424</td>\n",
              "      <td>51.792890</td>\n",
              "      <td>49.865817</td>\n",
              "      <td>49.865817</td>\n",
              "      <td>-2.464468</td>\n",
              "      <td>-2.464468</td>\n",
              "      <td>-2.464468</td>\n",
              "      <td>-0.212576</td>\n",
              "      <td>-0.212576</td>\n",
              "      <td>-0.212576</td>\n",
              "      <td>-2.251892</td>\n",
              "      <td>-2.251892</td>\n",
              "      <td>-2.251892</td>\n",
              "      <td>0.0</td>\n",
              "      <td>0.0</td>\n",
              "      <td>0.0</td>\n",
              "      <td>47.401349</td>\n",
              "    </tr>\n",
              "    <tr>\n",
              "      <th>...</th>\n",
              "      <td>...</td>\n",
              "      <td>...</td>\n",
              "      <td>...</td>\n",
              "      <td>...</td>\n",
              "      <td>...</td>\n",
              "      <td>...</td>\n",
              "      <td>...</td>\n",
              "      <td>...</td>\n",
              "      <td>...</td>\n",
              "      <td>...</td>\n",
              "      <td>...</td>\n",
              "      <td>...</td>\n",
              "      <td>...</td>\n",
              "      <td>...</td>\n",
              "      <td>...</td>\n",
              "      <td>...</td>\n",
              "      <td>...</td>\n",
              "      <td>...</td>\n",
              "      <td>...</td>\n",
              "    </tr>\n",
              "    <tr>\n",
              "      <th>983</th>\n",
              "      <td>2021-10-10 20:00:00</td>\n",
              "      <td>67.315243</td>\n",
              "      <td>63.555158</td>\n",
              "      <td>72.779064</td>\n",
              "      <td>67.141480</td>\n",
              "      <td>67.479699</td>\n",
              "      <td>0.974935</td>\n",
              "      <td>0.974935</td>\n",
              "      <td>0.974935</td>\n",
              "      <td>0.033362</td>\n",
              "      <td>0.033362</td>\n",
              "      <td>0.033362</td>\n",
              "      <td>0.941573</td>\n",
              "      <td>0.941573</td>\n",
              "      <td>0.941573</td>\n",
              "      <td>0.0</td>\n",
              "      <td>0.0</td>\n",
              "      <td>0.0</td>\n",
              "      <td>68.290177</td>\n",
              "    </tr>\n",
              "    <tr>\n",
              "      <th>984</th>\n",
              "      <td>2021-10-10 21:00:00</td>\n",
              "      <td>67.319869</td>\n",
              "      <td>63.235420</td>\n",
              "      <td>72.812638</td>\n",
              "      <td>67.104346</td>\n",
              "      <td>67.503758</td>\n",
              "      <td>0.729562</td>\n",
              "      <td>0.729562</td>\n",
              "      <td>0.729562</td>\n",
              "      <td>-0.063621</td>\n",
              "      <td>-0.063621</td>\n",
              "      <td>-0.063621</td>\n",
              "      <td>0.793183</td>\n",
              "      <td>0.793183</td>\n",
              "      <td>0.793183</td>\n",
              "      <td>0.0</td>\n",
              "      <td>0.0</td>\n",
              "      <td>0.0</td>\n",
              "      <td>68.049430</td>\n",
              "    </tr>\n",
              "    <tr>\n",
              "      <th>985</th>\n",
              "      <td>2021-10-10 22:00:00</td>\n",
              "      <td>67.324494</td>\n",
              "      <td>63.130521</td>\n",
              "      <td>72.703868</td>\n",
              "      <td>67.091834</td>\n",
              "      <td>67.538787</td>\n",
              "      <td>0.496218</td>\n",
              "      <td>0.496218</td>\n",
              "      <td>0.496218</td>\n",
              "      <td>-0.151075</td>\n",
              "      <td>-0.151075</td>\n",
              "      <td>-0.151075</td>\n",
              "      <td>0.647294</td>\n",
              "      <td>0.647294</td>\n",
              "      <td>0.647294</td>\n",
              "      <td>0.0</td>\n",
              "      <td>0.0</td>\n",
              "      <td>0.0</td>\n",
              "      <td>67.820712</td>\n",
              "    </tr>\n",
              "    <tr>\n",
              "      <th>986</th>\n",
              "      <td>2021-10-10 23:00:00</td>\n",
              "      <td>67.329120</td>\n",
              "      <td>63.190980</td>\n",
              "      <td>72.139458</td>\n",
              "      <td>67.060174</td>\n",
              "      <td>67.566241</td>\n",
              "      <td>0.325535</td>\n",
              "      <td>0.325535</td>\n",
              "      <td>0.325535</td>\n",
              "      <td>-0.178973</td>\n",
              "      <td>-0.178973</td>\n",
              "      <td>-0.178973</td>\n",
              "      <td>0.504508</td>\n",
              "      <td>0.504508</td>\n",
              "      <td>0.504508</td>\n",
              "      <td>0.0</td>\n",
              "      <td>0.0</td>\n",
              "      <td>0.0</td>\n",
              "      <td>67.654655</td>\n",
              "    </tr>\n",
              "    <tr>\n",
              "      <th>987</th>\n",
              "      <td>2021-10-11 00:00:00</td>\n",
              "      <td>67.333746</td>\n",
              "      <td>63.099395</td>\n",
              "      <td>72.292102</td>\n",
              "      <td>67.040497</td>\n",
              "      <td>67.582055</td>\n",
              "      <td>0.189545</td>\n",
              "      <td>0.189545</td>\n",
              "      <td>0.189545</td>\n",
              "      <td>-0.175791</td>\n",
              "      <td>-0.175791</td>\n",
              "      <td>-0.175791</td>\n",
              "      <td>0.365336</td>\n",
              "      <td>0.365336</td>\n",
              "      <td>0.365336</td>\n",
              "      <td>0.0</td>\n",
              "      <td>0.0</td>\n",
              "      <td>0.0</td>\n",
              "      <td>67.523291</td>\n",
              "    </tr>\n",
              "  </tbody>\n",
              "</table>\n",
              "<p>988 rows × 19 columns</p>\n",
              "</div>"
            ],
            "text/plain": [
              "                     ds      trend  ...  multiplicative_terms_upper       yhat\n",
              "0   2021-08-30 21:00:00  49.712217  ...                         0.0  47.836379\n",
              "1   2021-08-30 22:00:00  49.750617  ...                         0.0  47.683287\n",
              "2   2021-08-30 23:00:00  49.789017  ...                         0.0  47.585951\n",
              "3   2021-08-31 00:00:00  49.827417  ...                         0.0  47.515688\n",
              "4   2021-08-31 01:00:00  49.865817  ...                         0.0  47.401349\n",
              "..                  ...        ...  ...                         ...        ...\n",
              "983 2021-10-10 20:00:00  67.315243  ...                         0.0  68.290177\n",
              "984 2021-10-10 21:00:00  67.319869  ...                         0.0  68.049430\n",
              "985 2021-10-10 22:00:00  67.324494  ...                         0.0  67.820712\n",
              "986 2021-10-10 23:00:00  67.329120  ...                         0.0  67.654655\n",
              "987 2021-10-11 00:00:00  67.333746  ...                         0.0  67.523291\n",
              "\n",
              "[988 rows x 19 columns]"
            ]
          },
          "metadata": {},
          "execution_count": 314
        }
      ]
    },
    {
      "cell_type": "code",
      "metadata": {
        "id": "vPyBn1_Q1TGg"
      },
      "source": [],
      "execution_count": null,
      "outputs": []
    }
  ]
}