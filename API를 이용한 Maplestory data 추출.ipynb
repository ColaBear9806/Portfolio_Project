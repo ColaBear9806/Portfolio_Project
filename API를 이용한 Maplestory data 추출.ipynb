{
 "cells": [
  {
   "cell_type": "code",
   "execution_count": null,
   "id": "dfcc772c",
   "metadata": {},
   "outputs": [],
   "source": [
    "import requests\n",
    "import pandas as pd\n",
    "import numpy as np\n",
    "import matplotlib.pyplot as plt"
   ]
  },
  {
   "cell_type": "code",
   "execution_count": null,
   "id": "df15f72c",
   "metadata": {},
   "outputs": [],
   "source": [
    "pd.set_option('display.max_columns', 250)"
   ]
  },
  {
   "cell_type": "code",
   "execution_count": null,
   "id": "4aad279d",
   "metadata": {},
   "outputs": [],
   "source": [
    "API_KEY = ''"
   ]
  },
  {
   "cell_type": "markdown",
   "id": "e2a51c3b",
   "metadata": {},
   "source": [
    "# Ranker Stats 추출"
   ]
  },
  {
   "cell_type": "markdown",
   "id": "46a7f045",
   "metadata": {},
   "source": [
    "## Ranker Name 추출"
   ]
  },
  {
   "cell_type": "code",
   "execution_count": null,
   "id": "0bcb5d50",
   "metadata": {},
   "outputs": [],
   "source": [
    "#api 호출로 랭커의 기본정보 불러오기\n",
    "#기본정보에서 랭커의 캐릭터 이름만 추출\n",
    "headers = {\n",
    "    'accept': 'application/json',\n",
    "    'x-nxopen-api-key': API_KEY,\n",
    "}\n",
    "\n",
    "params = {\n",
    "    'date': '',#날짜 넣기\n",
    "    'world_name': '',#월드 이름 넣기\n",
    "}\n",
    "\n",
    "response_name = requests.get('https://open.api.nexon.com/maplestory/v1/ranking/overall', params=params, headers=headers)"
   ]
  },
  {
   "cell_type": "code",
   "execution_count": null,
   "id": "0fd6cd4f",
   "metadata": {},
   "outputs": [],
   "source": [
    "ranker_name_json = response_name.json()\n",
    "print(ranker_name_json['ranking'][0])"
   ]
  },
  {
   "cell_type": "code",
   "execution_count": null,
   "id": "f27aa1d7",
   "metadata": {},
   "outputs": [],
   "source": [
    "#랭커 캐릭터들의 이름만 추출하여 리스트 작성\n",
    "Ranker_name_list = []\n",
    "for data in ranker_name_json['ranking']:\n",
    "    Ranker_name_list.append(data['character_name'])\n",
    "Ranker_name_list"
   ]
  },
  {
   "cell_type": "code",
   "execution_count": null,
   "id": "5e8f1494",
   "metadata": {},
   "outputs": [],
   "source": [
    "Ranker_name_list_1 = Ranker_name_list[:157]\n",
    "Ranker_name_list_2 = Ranker_name_list[157:]"
   ]
  },
  {
   "cell_type": "code",
   "execution_count": null,
   "id": "51332240",
   "metadata": {},
   "outputs": [],
   "source": [
    "print(len(Ranker_name_list_1), len(Ranker_name_list_2))"
   ]
  },
  {
   "cell_type": "markdown",
   "id": "60df0930",
   "metadata": {},
   "source": [
    "## Ranker Name을 ocid로 변환"
   ]
  },
  {
   "cell_type": "code",
   "execution_count": null,
   "id": "978f7eaa",
   "metadata": {},
   "outputs": [],
   "source": [
    "def name_to_ocid(name_list):\n",
    "    ocid_list = []\n",
    "\n",
    "    for name in name_list:\n",
    "        headers = {\n",
    "        'accept': 'application/json',\n",
    "        'x-nxopen-api-key': API_KEY,\n",
    "        }\n",
    "\n",
    "        params = {\n",
    "        'character_name': name,\n",
    "        }\n",
    "\n",
    "        response_ocid = requests.get('https://open.api.nexon.com/maplestory/v1/id', params=params, headers=headers)\n",
    "        ocid_list.append(response_ocid.json().values())\n",
    "    return ocid_list"
   ]
  },
  {
   "cell_type": "code",
   "execution_count": null,
   "id": "873015bf",
   "metadata": {},
   "outputs": [],
   "source": [
    "ocid_list_1 = name_to_ocid(Ranker_name_list_1)"
   ]
  },
  {
   "cell_type": "code",
   "execution_count": null,
   "id": "b2ffc42a",
   "metadata": {},
   "outputs": [],
   "source": [
    "ocid_list_2 = name_to_ocid(Ranker_name_list_2)"
   ]
  },
  {
   "cell_type": "markdown",
   "id": "688ca4ab",
   "metadata": {},
   "source": [
    "## ocid를 이용하여 Character의 Stats 불러오기"
   ]
  },
  {
   "cell_type": "code",
   "execution_count": null,
   "id": "e3a3ed72",
   "metadata": {},
   "outputs": [],
   "source": [
    "#for문은 내부에 넣지 않고 외부에 사용하기\n",
    "#코드 재사용하기 용이\n",
    "\n",
    "def Load_Stats(ocid):\n",
    "    \n",
    "    headers = {\n",
    "        'accept': 'application/json',\n",
    "        'x-nxopen-api-key': API_KEY,\n",
    "    }\n",
    "\n",
    "    params = {\n",
    "        'ocid': ocid,\n",
    "    }\n",
    "\n",
    "    response_basic = requests.get('https://open.api.nexon.com/maplestory/v1/character/basic', params=params, headers=headers)\n",
    "    response_main_stats = requests.get('https://open.api.nexon.com/maplestory/v1/character/stat', params=params, headers=headers)\n",
    "    response_hyper_stats = requests.get('https://open.api.nexon.com/maplestory/v1/character/hyper-stat', params=params, headers=headers)\n",
    "    response_item_equipment = requests.get('https://open.api.nexon.com/maplestory/v1/character/item-equipment', params=params, headers=headers)\n",
    "    response_symbol_equipment = requests.get('https://open.api.nexon.com/maplestory/v1/character/symbol-equipment', params=params, headers=headers)\n",
    "    \n",
    "    basic_stats = response_basic.json()\n",
    "    main_stats = response_main_stats.json()\n",
    "    hyper_stats = response_hyper_stats.json()\n",
    "    item_equipment = response_item_equipment.json()\n",
    "    symbol_equipment = response_symbol_equipment.json()\n",
    "    \n",
    "    row0 = {\n",
    "            'character_name': basic_stats['character_name'],\n",
    "            'character_gender': basic_stats['character_gender'],\n",
    "            'character_class': basic_stats['character_class'],\n",
    "            'character_level': basic_stats['character_level'],\n",
    "           }\n",
    "    \n",
    "    list_main_stats = main_stats['final_stat']\n",
    "    row1 = {data['stat_name']: data['stat_value'] for data in list_main_stats}\n",
    "    row1['character_class'] = main_stats['character_class']\n",
    "    \n",
    "    list_hyper_stats = hyper_stats['hyper_stat_preset_1']\n",
    "    row2 = {'Hyper ' + data['stat_type']: data['stat_level'] for data in list_hyper_stats}\n",
    "    \n",
    "    list_item_equipment = item_equipment['item_equipment']\n",
    "    row3 ={}\n",
    "    for data in list_item_equipment:\n",
    "        row3.update({'Item_Equipment ' + data['item_equipment_slot']: data['item_name'],\n",
    "                     'Item_Equipment ' + data['item_equipment_slot'] + ' Starforce': data['starforce']})\n",
    "        \n",
    "    list_symbol_equipment = symbol_equipment['symbol']\n",
    "    row4 = {data['symbol_name']: data['symbol_level'] for data in list_symbol_equipment}\n",
    "    \n",
    "    \n",
    "    row0.update(row1)\n",
    "    row0.update(row2)\n",
    "    row0.update(row3)\n",
    "    row0.update(row4)\n",
    "\n",
    "    return row0"
   ]
  },
  {
   "cell_type": "code",
   "execution_count": null,
   "id": "44484543",
   "metadata": {
    "scrolled": false
   },
   "outputs": [],
   "source": [
    "#api 호출 횟수 제한으로 나눠서 호출\n",
    "Character_stats_list_1 = []\n",
    "\n",
    "for ocid in ocid_list_1:\n",
    "    Character_stats_list_1.append(Load_Stats(ocid))"
   ]
  },
  {
   "cell_type": "code",
   "execution_count": null,
   "id": "9614a697",
   "metadata": {},
   "outputs": [],
   "source": [
    "Character_stats_list_2 = []\n",
    "\n",
    "for ocid in ocid_list_2:\n",
    "    Character_stats_list_2.append(Load_Stats(ocid))"
   ]
  },
  {
   "cell_type": "code",
   "execution_count": null,
   "id": "428bc1c0",
   "metadata": {},
   "outputs": [],
   "source": [
    "len(Character_stats_list_1)"
   ]
  },
  {
   "cell_type": "code",
   "execution_count": null,
   "id": "ec4bb208",
   "metadata": {},
   "outputs": [],
   "source": [
    "len(Character_stats_list_2)"
   ]
  },
  {
   "cell_type": "code",
   "execution_count": null,
   "id": "a2d0a1a7",
   "metadata": {},
   "outputs": [],
   "source": [
    "df = pd.DataFrame(Character_stats_list_1)"
   ]
  },
  {
   "cell_type": "code",
   "execution_count": null,
   "id": "44b70750",
   "metadata": {},
   "outputs": [],
   "source": [
    "df1 = pd.DataFrame(Character_stats_list_2)"
   ]
  },
  {
   "cell_type": "code",
   "execution_count": null,
   "id": "e1f37b5b",
   "metadata": {},
   "outputs": [],
   "source": [
    "#임시 저장\n",
    "df.to_csv('maple_data1.csv')"
   ]
  },
  {
   "cell_type": "code",
   "execution_count": null,
   "id": "ead97939",
   "metadata": {},
   "outputs": [],
   "source": [
    "#임시 저장\n",
    "df1.to_csv('maple_data2.csv')"
   ]
  },
  {
   "cell_type": "code",
   "execution_count": null,
   "id": "00ea0066",
   "metadata": {},
   "outputs": [],
   "source": [
    "df1 = pd.read_csv('./maple_data1.csv', index_col = 0)\n",
    "df2 = pd.read_csv('./maple_data2.csv', index_col = 0)"
   ]
  },
  {
   "cell_type": "code",
   "execution_count": null,
   "id": "09c09c24",
   "metadata": {
    "scrolled": true
   },
   "outputs": [],
   "source": [
    "#나눠진 데이터 합치기\n",
    "df = pd.concat([df1, df2], ignore_index = True)"
   ]
  },
  {
   "cell_type": "code",
   "execution_count": null,
   "id": "dce57a8a",
   "metadata": {
    "scrolled": true
   },
   "outputs": [],
   "source": [
    "df.shape"
   ]
  },
  {
   "cell_type": "markdown",
   "id": "b94a52b9",
   "metadata": {},
   "source": [
    "## 데이터 전처리"
   ]
  },
  {
   "cell_type": "code",
   "execution_count": null,
   "id": "f42fbbeb",
   "metadata": {
    "scrolled": true
   },
   "outputs": [],
   "source": [
    "#null 확인\n",
    "df[df.isnull().any(axis=1)]"
   ]
  },
  {
   "cell_type": "code",
   "execution_count": null,
   "id": "74e5c273",
   "metadata": {},
   "outputs": [],
   "source": [
    "len(df[df.isnull().any(axis=1)])"
   ]
  },
  {
   "cell_type": "code",
   "execution_count": null,
   "id": "56da6026",
   "metadata": {},
   "outputs": [],
   "source": [
    "#column을 type 별로 분류\n",
    "numerical_list = []\n",
    "categorical_list = []\n",
    "for col_name in df.columns:\n",
    "    try:\n",
    "        if int(df.iloc[0][col_name]):\n",
    "            numerical_list.append(col_name)\n",
    "    except:\n",
    "        categorical_list.append(col_name)"
   ]
  },
  {
   "cell_type": "code",
   "execution_count": null,
   "id": "68cea8aa",
   "metadata": {},
   "outputs": [],
   "source": [
    "print(numerical_list)"
   ]
  },
  {
   "cell_type": "code",
   "execution_count": null,
   "id": "2223e9d2",
   "metadata": {},
   "outputs": [],
   "source": [
    "print(categorical_list)"
   ]
  },
  {
   "cell_type": "code",
   "execution_count": null,
   "id": "05aa2ea8",
   "metadata": {
    "scrolled": true
   },
   "outputs": [],
   "source": [
    "df = df.reset_index()\n"
   ]
  },
  {
   "cell_type": "code",
   "execution_count": null,
   "id": "790bfc59",
   "metadata": {},
   "outputs": [],
   "source": [
    "df_dropna = df.dropna()\n",
    "df_dropna[df_dropna.notnull().any(axis=1)]"
   ]
  },
  {
   "cell_type": "code",
   "execution_count": null,
   "id": "d3eae076",
   "metadata": {},
   "outputs": [],
   "source": [
    "#null제거 후 포맷을 int로 변경\n",
    "for col_name in numerical_list:\n",
    "    df_dropna[col_name] = df_dropna[col_name].apply(lambda x:  int(x))"
   ]
  },
  {
   "cell_type": "code",
   "execution_count": null,
   "id": "c902de93",
   "metadata": {},
   "outputs": [],
   "source": [
    "df_dropna.info(True)"
   ]
  },
  {
   "cell_type": "code",
   "execution_count": null,
   "id": "594bc900",
   "metadata": {},
   "outputs": [],
   "source": [
    "print(\"중복된 항목 수: \", len(df_dropna[df_dropna.duplicated()]))"
   ]
  },
  {
   "cell_type": "code",
   "execution_count": null,
   "id": "276a76b3",
   "metadata": {},
   "outputs": [],
   "source": [
    "#전처리된 데이터 저장\n",
    "df_dropna.to_csv('maple_dropna.csv')"
   ]
  },
  {
   "cell_type": "markdown",
   "id": "5b22e0a0",
   "metadata": {},
   "source": [
    "# 데이터 불러오기"
   ]
  },
  {
   "cell_type": "code",
   "execution_count": null,
   "id": "8bf8bd03",
   "metadata": {
    "scrolled": true
   },
   "outputs": [],
   "source": [
    "df = pd.read_csv('./maple_dropna.csv')"
   ]
  },
  {
   "cell_type": "code",
   "execution_count": null,
   "id": "a1854b0f",
   "metadata": {},
   "outputs": [],
   "source": [
    "df.head()"
   ]
  },
  {
   "cell_type": "code",
   "execution_count": null,
   "id": "9d5e7113",
   "metadata": {},
   "outputs": [],
   "source": []
  },
  {
   "cell_type": "code",
   "execution_count": null,
   "id": "197b7b47",
   "metadata": {},
   "outputs": [],
   "source": []
  }
 ],
 "metadata": {
  "kernelspec": {
   "display_name": "Python 3 (ipykernel)",
   "language": "python",
   "name": "python3"
  },
  "language_info": {
   "codemirror_mode": {
    "name": "ipython",
    "version": 3
   },
   "file_extension": ".py",
   "mimetype": "text/x-python",
   "name": "python",
   "nbconvert_exporter": "python",
   "pygments_lexer": "ipython3",
   "version": "3.11.5"
  }
 },
 "nbformat": 4,
 "nbformat_minor": 5
}
